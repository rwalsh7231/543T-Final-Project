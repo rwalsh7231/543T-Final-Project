{
 "cells": [
  {
   "cell_type": "code",
   "execution_count": 2,
   "id": "initial_id",
   "metadata": {
    "collapsed": true,
    "ExecuteTime": {
     "end_time": "2025-03-31T00:27:39.039154400Z",
     "start_time": "2025-03-31T00:27:38.382043600Z"
    }
   },
   "outputs": [],
   "source": [
    "# imports\n",
    "import numpy as np\n",
    "import matplotlib.pyplot as plt"
   ]
  },
  {
   "cell_type": "code",
   "execution_count": 1,
   "outputs": [],
   "source": [
    "class Population:\n",
    "    def __init__(self, N, beta, gamma, mu, crossInfectivity):\n",
    "        self.N = N\n",
    "        self.beta = beta\n",
    "        self.gamma = gamma\n",
    "        self.mu = mu\n",
    "        self.crossInfectivity = crossInfectivity\n",
    "        \n",
    "        self.S = N - 1\n",
    "        self.I = 1\n",
    "        self.R = 0\n",
    "        self.D = 0\n",
    "    \n",
    "    # when two different populations connect, they can infect one another\n",
    "    def crossInfect(self, population):\n",
    "        changeI = (self.S * population.crossInfectivity * population.I)\n",
    "        \n",
    "        self.S -= changeI\n",
    "        self.I += changeI\n",
    "    \n",
    "    def SIRD(self):\n",
    "        changeS = -(self.beta * self.S * self.I)/self.N\n",
    "        changeI = ((self.beta * self.S * self.I)/self.N) - (self.gamma * self.I) - (self.mu * self.I)\n",
    "        changeR = self.gamma * self.I\n",
    "        changeD = self.mu * self.I\n",
    "        \n",
    "        self.S += changeS\n",
    "        self.I += changeI\n",
    "        self.R += changeR\n",
    "        self.D += changeD\n",
    "        "
   ],
   "metadata": {
    "collapsed": false,
    "ExecuteTime": {
     "end_time": "2025-03-31T00:27:29.953580100Z",
     "start_time": "2025-03-31T00:27:29.946797400Z"
    }
   },
   "id": "b081a3d5e3862fb5"
  },
  {
   "cell_type": "code",
   "execution_count": 19,
   "outputs": [],
   "source": [
    "group1 = Population(1000, 0.5, 0.1, 0.01, 0.01)\n",
    "\n",
    "group2 = Population(10000, 0.3, 0.01, 0.01, 0.01)"
   ],
   "metadata": {
    "collapsed": false,
    "ExecuteTime": {
     "end_time": "2025-03-31T00:33:02.509152Z",
     "start_time": "2025-03-31T00:33:02.491343500Z"
    }
   },
   "id": "a5ebc7e0b74e4108"
  },
  {
   "cell_type": "code",
   "execution_count": 20,
   "outputs": [
    {
     "name": "stdout",
     "output_type": "stream",
     "text": [
      "nan\n"
     ]
    }
   ],
   "source": [
    "S = [group1.S + group2.S]\n",
    "I = [group1.I + group2.I]\n",
    "R = [group1.R + group2.R]\n",
    "D = [group1.D + group2.D]\n",
    "\n",
    "for i in range(100):\n",
    "    group1.SIRD()\n",
    "    group2.SIRD()\n",
    "    \n",
    "    group1.crossInfect(group2)\n",
    "    group2.crossInfect(group1)\n",
    "    \n",
    "    S.append(group1.S + group2.S)\n",
    "    I.append(group1.I + group2.I)\n",
    "    R.append(group1.R + group2.R)\n",
    "    D.append(group1.D + group2.D)\n",
    "    \n",
    "print(S[-1] + I[-1] + R[-1] + D[-1])"
   ],
   "metadata": {
    "collapsed": false,
    "ExecuteTime": {
     "end_time": "2025-03-31T00:33:04.981633400Z",
     "start_time": "2025-03-31T00:33:04.969514Z"
    }
   },
   "id": "a5f4a93a5ffd55f0"
  },
  {
   "cell_type": "code",
   "execution_count": 21,
   "outputs": [
    {
     "data": {
      "text/plain": "<Figure size 640x480 with 1 Axes>",
      "image/png": "[encoded data removed]"
     },
     "metadata": {},
     "output_type": "display_data"
    }
   ],
   "source": [
    "plt.plot(S, label=\"S\")\n",
    "plt.plot(I, label=\"I\")\n",
    "plt.plot(R, label=\"R\")\n",
    "plt.plot(D, label=\"D\")\n",
    "plt.xlabel(\"Time\")\n",
    "plt.ylabel(\"Populations\")\n",
    "plt.title(\"SIRD MODEL SIMULATION\")\n",
    "plt.legend()\n",
    "plt.show()"
   ],
   "metadata": {
    "collapsed": false,
    "ExecuteTime": {
     "end_time": "2025-03-31T00:33:08.973965900Z",
     "start_time": "2025-03-31T00:33:08.830238400Z"
    }
   },
   "id": "93ba964275a045b9"
  },
  {
   "cell_type": "code",
   "execution_count": null,
   "outputs": [],
   "source": [],
   "metadata": {
    "collapsed": false
   },
   "id": "283b2a118b416ee3"
  }
 ],
 "metadata": {
  "kernelspec": {
   "display_name": "Python 3",
   "language": "python",
   "name": "python3"
  },
  "language_info": {
   "codemirror_mode": {
    "name": "ipython",
    "version": 2
   },
   "file_extension": ".py",
   "mimetype": "text/x-python",
   "name": "python",
   "nbconvert_exporter": "python",
   "pygments_lexer": "ipython2",
   "version": "2.7.6"
  }
 },
 "nbformat": 4,
 "nbformat_minor": 5
}
